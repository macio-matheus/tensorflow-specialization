{
 "cells": [
  {
   "cell_type": "markdown",
   "metadata": {
    "colab_type": "text",
    "id": "iQjHqsmTAVLU"
   },
   "source": [
    "## Exercise 3\n",
    "In the videos you looked at how you would improve Fashion MNIST using Convolutions. For your exercise see if you can improve MNIST to 99.8% accuracy or more using only a single convolutional layer and a single MaxPooling 2D. You should stop training once the accuracy goes above this amount. It should happen in less than 20 epochs, so it's ok to hard code the number of epochs for training, but your training must end once it hits the above metric. If it doesn't, then you'll need to redesign your layers.\n",
    "\n",
    "I've started the code for you -- you need to finish it!\n",
    "\n",
    "When 99.8% accuracy has been hit, you should print out the string \"Reached 99.8% accuracy so cancelling training!\"\n"
   ]
  },
  {
   "cell_type": "code",
   "execution_count": 6,
   "metadata": {},
   "outputs": [],
   "source": [
    "import tensorflow as tf\n",
    "from os import path, getcwd, chdir\n",
    "\n",
    "# DO NOT CHANGE THE LINE BELOW. If you are developing in a local\n",
    "# environment, then grab mnist.npz from the Coursera Jupyter Notebook\n",
    "# and place it inside a local folder and edit the path to that location\n",
    "path = f\"{getcwd()}/../tmp2/mnist.npz\""
   ]
  },
  {
   "cell_type": "code",
   "execution_count": 7,
   "metadata": {},
   "outputs": [],
   "source": [
    "config = tf.ConfigProto()\n",
    "config.gpu_options.allow_growth = True\n",
    "sess = tf.Session(config=config)"
   ]
  },
  {
   "cell_type": "code",
   "execution_count": 8,
   "metadata": {},
   "outputs": [],
   "source": [
    "# GRADED FUNCTION: train_mnist_conv\n",
    "def train_mnist_conv():\n",
    "    # Please write your code only where you are indicated.\n",
    "    # please do not remove model fitting inline comments.\n",
    "\n",
    "    # YOUR CODE STARTS HERE\n",
    "    \n",
    "    # YOUR CODE ENDS HERE\n",
    "\n",
    "    mnist = tf.keras.datasets.mnist\n",
    "    (training_images, training_labels), (test_images, test_labels) = mnist.load_data(path=path)\n",
    "    # YOUR CODE STARTS HERE\n",
    "    training_images=training_images.reshape(60000, 28, 28, 1)\n",
    "    training_images=training_images / 255.0\n",
    "    # YOUR CODE ENDS HERE\n",
    "\n",
    "    model = tf.keras.models.Sequential([\n",
    "        # YOUR CODE STARTS HERE\n",
    "        tf.keras.layers.Conv2D(64, (3,3), activation='relu', input_shape=(28, 28, 1)),\n",
    "        tf.keras.layers.MaxPooling2D(2, 2),\n",
    "        tf.keras.layers.Flatten(),\n",
    "        tf.keras.layers.Dense(10, activation='softmax')\n",
    "        # YOUR CODE ENDS HERE\n",
    "    ])\n",
    "\n",
    "    model.compile(optimizer='adam', loss='sparse_categorical_crossentropy', metrics=['accuracy'])\n",
    "    # model fitting\n",
    "    history = model.fit(\n",
    "        training_images, training_labels, epochs=19\n",
    "    )\n",
    "    # model fitting\n",
    "    return history.epoch, history.history['acc'][-1]\n",
    "\n"
   ]
  },
  {
   "cell_type": "code",
   "execution_count": 9,
   "metadata": {},
   "outputs": [
    {
     "name": "stdout",
     "output_type": "stream",
     "text": [
      "Epoch 1/20\n",
      "60000/60000 [==============================] - 16s 262us/sample - loss: 0.1807 - acc: 0.9487\n",
      "Epoch 2/20\n",
      "60000/60000 [==============================] - 16s 258us/sample - loss: 0.0676 - acc: 0.9804 - loss: 0.0684 - ac\n",
      "Epoch 3/20\n",
      "60000/60000 [==============================] - 16s 262us/sample - loss: 0.0510 - acc: 0.9845\n",
      "Epoch 4/20\n",
      "60000/60000 [==============================] - 16s 263us/sample - loss: 0.0410 - acc: 0.9879\n",
      "Epoch 5/20\n",
      "60000/60000 [==============================] - 16s 260us/sample - loss: 0.0342 - acc: 0.9895\n",
      "Epoch 6/20\n",
      "60000/60000 [==============================] - 15s 257us/sample - loss: 0.0281 - acc: 0.9915\n",
      "Epoch 7/20\n",
      "60000/60000 [==============================] - 16s 260us/sample - loss: 0.0226 - acc: 0.9926\n",
      "Epoch 8/20\n",
      "60000/60000 [==============================] - 16s 260us/sample - loss: 0.0180 - acc: 0.9947\n",
      "Epoch 9/20\n",
      "60000/60000 [==============================] - 16s 262us/sample - loss: 0.0153 - acc: 0.9951\n",
      "Epoch 10/20\n",
      "60000/60000 [==============================] - 16s 260us/sample - loss: 0.0119 - acc: 0.9964\n",
      "Epoch 11/20\n",
      "60000/60000 [==============================] - 16s 258us/sample - loss: 0.0095 - acc: 0.9970\n",
      "Epoch 12/20\n",
      "60000/60000 [==============================] - 16s 265us/sample - loss: 0.0083 - acc: 0.9975\n",
      "Epoch 13/20\n",
      "60000/60000 [==============================] - 16s 263us/sample - loss: 0.0061 - acc: 0.9983\n",
      "Epoch 14/20\n",
      "60000/60000 [==============================] - 16s 262us/sample - loss: 0.0061 - acc: 0.9983\n",
      "Epoch 15/20\n",
      "60000/60000 [==============================] - 16s 262us/sample - loss: 0.0048 - acc: 0.9985\n",
      "Epoch 16/20\n",
      "60000/60000 [==============================] - 16s 262us/sample - loss: 0.0034 - acc: 0.9991\n",
      "Epoch 17/20\n",
      "60000/60000 [==============================] - 16s 260us/sample - loss: 0.0042 - acc: 0.9988\n",
      "Epoch 18/20\n",
      "60000/60000 [==============================] - 16s 261us/sample - loss: 0.0022 - acc: 0.9994\n",
      "Epoch 19/20\n",
      "60000/60000 [==============================] - 16s 259us/sample - loss: 0.0026 - acc: 0.9994\n",
      "Epoch 20/20\n",
      "60000/60000 [==============================] - 15s 258us/sample - loss: 0.0026 - acc: 0.9993\n"
     ]
    }
   ],
   "source": [
    "_, _ = train_mnist_conv()"
   ]
  },
  {
   "cell_type": "code",
   "execution_count": null,
   "metadata": {},
   "outputs": [],
   "source": []
  }
 ],
 "metadata": {
  "coursera": {
   "course_slug": "introduction-tensorflow",
   "graded_item_id": "ml06H",
   "launcher_item_id": "hQF8A"
  },
  "kernelspec": {
   "display_name": "Python 3",
   "language": "python",
   "name": "python3"
  },
  "language_info": {
   "codemirror_mode": {
    "name": "ipython",
    "version": 3
   },
   "file_extension": ".py",
   "mimetype": "text/x-python",
   "name": "python",
   "nbconvert_exporter": "python",
   "pygments_lexer": "ipython3",
   "version": "3.6.8"
  }
 },
 "nbformat": 4,
 "nbformat_minor": 1
}
